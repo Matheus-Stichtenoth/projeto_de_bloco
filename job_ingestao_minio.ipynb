{
 "cells": [
  {
   "cell_type": "code",
   "execution_count": 1,
   "id": "4d2bb915-5667-4913-83f7-ccf35d282620",
   "metadata": {},
   "outputs": [],
   "source": [
    "from pyspark.sql.types import StructType, StructField, StringType, IntegerType , DoubleType\n",
    "from pyspark.sql import SparkSession\n",
    "import boto3\n",
    "import os\n",
    "from dotenv import load_dotenv\n",
    "\n",
    "# Carrega o conteúdo do .env\n",
    "load_dotenv(dotenv_path=\".env\")\n",
    "\n",
    "# Usa as variáveis\n",
    "access_key = os.getenv(\"MINIO_ROOT_USER\")\n",
    "secret_key = os.getenv(\"MINIO_ROOT_PASSWORD\")"
   ]
  },
  {
   "cell_type": "code",
   "execution_count": 2,
   "id": "edf7f90b-2e6f-4053-94a3-d70c771edba7",
   "metadata": {},
   "outputs": [
    {
     "name": "stdout",
     "output_type": "stream",
     "text": [
      ":: loading settings :: url = jar:file:/opt/bitnami/spark/jars/ivy-2.5.1.jar!/org/apache/ivy/core/settings/ivysettings.xml\n"
     ]
    },
    {
     "name": "stderr",
     "output_type": "stream",
     "text": [
      "Ivy Default Cache set to: /root/.ivy2/cache\n",
      "The jars for the packages stored in: /root/.ivy2/jars\n",
      "org.apache.hadoop#hadoop-aws added as a dependency\n",
      "io.delta#delta-spark_2.12 added as a dependency\n",
      ":: resolving dependencies :: org.apache.spark#spark-submit-parent-acbf980e-fd8b-4e11-8083-c70ef936da91;1.0\n",
      "\tconfs: [default]\n",
      "\tfound org.apache.hadoop#hadoop-aws;3.3.4 in central\n",
      "\tfound com.amazonaws#aws-java-sdk-bundle;1.12.262 in central\n",
      "\tfound org.wildfly.openssl#wildfly-openssl;1.0.7.Final in central\n",
      "\tfound io.delta#delta-spark_2.12;3.3.1 in central\n",
      "\tfound io.delta#delta-storage;3.3.1 in central\n",
      "\tfound org.antlr#antlr4-runtime;4.9.3 in central\n",
      "downloading https://repo1.maven.org/maven2/org/apache/hadoop/hadoop-aws/3.3.4/hadoop-aws-3.3.4.jar ...\n",
      "\t[SUCCESSFUL ] org.apache.hadoop#hadoop-aws;3.3.4!hadoop-aws.jar (848ms)\n",
      "downloading https://repo1.maven.org/maven2/io/delta/delta-spark_2.12/3.3.1/delta-spark_2.12-3.3.1.jar ...\n",
      "\t[SUCCESSFUL ] io.delta#delta-spark_2.12;3.3.1!delta-spark_2.12.jar (769ms)\n",
      "downloading https://repo1.maven.org/maven2/com/amazonaws/aws-java-sdk-bundle/1.12.262/aws-java-sdk-bundle-1.12.262.jar ...\n",
      "\t[SUCCESSFUL ] com.amazonaws#aws-java-sdk-bundle;1.12.262!aws-java-sdk-bundle.jar (6922ms)\n",
      "downloading https://repo1.maven.org/maven2/org/wildfly/openssl/wildfly-openssl/1.0.7.Final/wildfly-openssl-1.0.7.Final.jar ...\n",
      "\t[SUCCESSFUL ] org.wildfly.openssl#wildfly-openssl;1.0.7.Final!wildfly-openssl.jar (538ms)\n",
      "downloading https://repo1.maven.org/maven2/io/delta/delta-storage/3.3.1/delta-storage-3.3.1.jar ...\n",
      "\t[SUCCESSFUL ] io.delta#delta-storage;3.3.1!delta-storage.jar (277ms)\n",
      "downloading https://repo1.maven.org/maven2/org/antlr/antlr4-runtime/4.9.3/antlr4-runtime-4.9.3.jar ...\n",
      "\t[SUCCESSFUL ] org.antlr#antlr4-runtime;4.9.3!antlr4-runtime.jar (-121557ms)\n",
      ":: resolution report :: resolve 8892ms :: artifacts dl -112197ms\n",
      "\t:: modules in use:\n",
      "\tcom.amazonaws#aws-java-sdk-bundle;1.12.262 from central in [default]\n",
      "\tio.delta#delta-spark_2.12;3.3.1 from central in [default]\n",
      "\tio.delta#delta-storage;3.3.1 from central in [default]\n",
      "\torg.antlr#antlr4-runtime;4.9.3 from central in [default]\n",
      "\torg.apache.hadoop#hadoop-aws;3.3.4 from central in [default]\n",
      "\torg.wildfly.openssl#wildfly-openssl;1.0.7.Final from central in [default]\n",
      "\t---------------------------------------------------------------------\n",
      "\t|                  |            modules            ||   artifacts   |\n",
      "\t|       conf       | number| search|dwnlded|evicted|| number|dwnlded|\n",
      "\t---------------------------------------------------------------------\n",
      "\t|      default     |   6   |   6   |   6   |   0   ||   6   |   6   |\n",
      "\t---------------------------------------------------------------------\n",
      ":: retrieving :: org.apache.spark#spark-submit-parent-acbf980e-fd8b-4e11-8083-c70ef936da91\n",
      "\tconfs: [default]\n",
      "\t6 artifacts copied, 0 already retrieved (282735kB/122918ms)\n",
      "25/06/03 00:03:17 WARN NativeCodeLoader: Unable to load native-hadoop library for your platform... using builtin-java classes where applicable\n",
      "Setting default log level to \"WARN\".\n",
      "To adjust logging level use sc.setLogLevel(newLevel). For SparkR, use setLogLevel(newLevel).\n"
     ]
    },
    {
     "name": "stdout",
     "output_type": "stream",
     "text": [
      "Processo finalizado!\n"
     ]
    }
   ],
   "source": [
    "spark = ( \n",
    " SparkSession\n",
    " .builder\n",
    " .master(\"spark://spark-master:7077\")\n",
    " .appName('MinIO - Teste')\n",
    " .config('spark.hadoop.fs.s3a.endpoint','http://minio:9000')\n",
    " .config('spark.hadoop.fs.s3a.access.key','minioadmin')\n",
    " .config('spark.hadoop.fs.s3a.secret.key','minioadmin')\n",
    " .config('spark.hadoop.fs.s3a.path.style.access','true')\n",
    " .config('spark.hadoop.fs.s3a.connection.ssl.enabled','false')\n",
    " #.config('spark.hadoop.fs.s3a.impl','org.apache.hadoop:hadoop-aws:3.3.4,io.delta:delta-spark_2.12:3.3.4')\n",
    " .config('spark.jars.packages','io.delta:delta-spark_2.12:3.3.1')\n",
    " .getOrCreate()\n",
    ")\n",
    "\n",
    "print('Processo finalizado!')"
   ]
  },
  {
   "cell_type": "code",
   "execution_count": null,
   "id": "4e76d876-265b-4486-b82d-7aab9f814b58",
   "metadata": {},
   "outputs": [
    {
     "name": "stdout",
     "output_type": "stream",
     "text": [
      "########### INICIANDO LEITURA DOS DADOS DA CAMADA BRONZE (INGESTÃO) ###########\n",
      "Configurando boto3 para acessar MinIO...\n",
      "✅\n",
      "Lendo os arquivos CSV existentes na camada bronze...\n",
      "Arquivos: ['index_1.csv', 'index_2.csv']\n",
      "✅\n",
      "Iniciando a leitura dos arquivos...\n",
      "Lendo: s3a://bronze/index_1.csv\n",
      "index_1.csv finalizado!\n",
      "Lendo: s3a://bronze/index_2.csv\n",
      "index_2.csv finalizado!\n",
      "✅\n",
      "Plotando os dados em uma tabela...\n",
      "+----------+--------------------+---------+-------------------+-----+-------------+\n",
      "|      date|            datetime|cash_type|               card|money|  coffee_name|\n",
      "+----------+--------------------+---------+-------------------+-----+-------------+\n",
      "|2024-03-01|2024-03-01 10:15:...|     card|ANON-0000-0000-0001| 38.7|        Latte|\n",
      "|2024-03-01|2024-03-01 12:19:...|     card|ANON-0000-0000-0002| 38.7|Hot Chocolate|\n",
      "+----------+--------------------+---------+-------------------+-----+-------------+\n",
      "only showing top 2 rows\n",
      "\n",
      "✅ \n",
      " \n",
      "\n",
      "########### INICIANDO INGESTÃO DOS DADOS NA CAMADA SILVER (DADOS AGRUPADOS) ########### \n",
      "\n",
      "Salvando df_total em s3a://silver ...\n"
     ]
    },
    {
     "name": "stderr",
     "output_type": "stream",
     "text": [
      "                                                                                "
     ]
    },
    {
     "name": "stdout",
     "output_type": "stream",
     "text": [
      "✅\n",
      "########### INICIANDO O CONSUMO DOS DADOS DA CAMADA SILVER (DADOS AGRUPADOS) ########### \n",
      "\n",
      "Iniciando leitura dos dados: s3a://silver/coffe_sales.parquet ...\n"
     ]
    }
   ],
   "source": [
    "print('########### INICIANDO LEITURA DOS DADOS DA CAMADA BRONZE (INGESTÃO) ###########')\n",
    "\n",
    "print('Configurando boto3 para acessar MinIO...')\n",
    "#Configurando boto3 pra acessar o minio\n",
    "s3 = boto3.client(\n",
    "    's3',\n",
    "    endpoint_url='http://minio:9000',\n",
    "    aws_access_key_id=access_key,\n",
    "    aws_secret_access_key=secret_key\n",
    ")\n",
    "print('✅')\n",
    "\n",
    "#definindo bucket da primeira camada do medalhão, que será a de ingestão\n",
    "bucket = 'bronze'\n",
    "\n",
    "#lendo os arquivos csv dentro do bucket, para que sempre que chegue um novo arquivo, ele seja incluído no df_total\n",
    "print('Lendo os arquivos CSV existentes na camada bronze...')\n",
    "resposta = s3.list_objects_v2(Bucket=bucket)\n",
    "arquivos = [\n",
    "    obj['Key'] for obj in resposta.get('Contents', [])\n",
    "    if obj['Key'].endswith('.csv')\n",
    "]\n",
    "print(f'Arquivos: {arquivos}')\n",
    "print('✅')\n",
    "\n",
    "#Criando schema para o dataframe\n",
    "schema = StructType([\n",
    "    StructField(\"date\", StringType(), True),\n",
    "    StructField(\"datetime\", StringType(), True),\n",
    "    StructField(\"cash_type\", StringType(), True),\n",
    "    StructField(\"card\", StringType(), True),\n",
    "    StructField(\"money\", DoubleType(), True),\n",
    "    StructField(\"coffee_name\", StringType(), True)\n",
    "])\n",
    "\n",
    "#Criando um DataFrame vazio com esse schema\n",
    "df_total = spark.createDataFrame([], schema)\n",
    "\n",
    "#Efetuando iteração para leitura de cada arquivo no MinIO\n",
    "print('Iniciando a leitura dos arquivos...')\n",
    "for arquivo in arquivos:\n",
    "    caminho = f\"s3a://{bucket}/{arquivo}\"\n",
    "    print(f\"Lendo: {caminho}\")\n",
    "    df = spark.read.csv(caminho, header=True, schema=schema)\n",
    "    df_total = df_total.union(df)\n",
    "    print(f\"{arquivo} finalizado!\")\n",
    "    \n",
    "print('✅')\n",
    "#Mostra os dados combinados\n",
    "print('Plotando os dados em uma tabela...')\n",
    "df_total.show(2)\n",
    "print('✅ \\n \\n')\n",
    "\n",
    "print('########### INICIANDO INGESTÃO DOS DADOS NA CAMADA SILVER (DADOS AGRUPADOS) ########### \\n')\n",
    "\n",
    "path_silver = 's3a://silver'\n",
    "name_parquet_silver = 'coffe_sales.parquet'\n",
    "\n",
    "print(f'Salvando df_total em {path_silver} ...')\n",
    "df_total.coalesce(1).write.mode('overwrite').parquet(f'{path_silver}/{name_parquet_silver}')\n",
    "print('✅')\n",
    "\n",
    "print('########### INICIANDO O CONSUMO DOS DADOS DA CAMADA SILVER (DADOS AGRUPADOS) ########### \\n')\n",
    "\n",
    "print(f'Iniciando leitura dos dados: {path_silver}/{name_parquet_silver} ...')\n",
    "\n",
    "df_coffe = spark.read.parquet(f'{path_silver}/{name_parquet_silver}')\n",
    "\n",
    "print('Plotando os dados em uma tabela...')\n",
    "df_coffe.show(2)"
   ]
  },
  {
   "cell_type": "code",
   "execution_count": 8,
   "id": "73d3cfb2-51e3-47d5-ad94-6fc0ff68ada7",
   "metadata": {},
   "outputs": [
    {
     "name": "stderr",
     "output_type": "stream",
     "text": [
      "25/06/02 00:38:17 WARN MetricsConfig: Cannot locate configuration: tried hadoop-metrics2-s3a-file-system.properties,hadoop-metrics2.properties\n"
     ]
    },
    {
     "name": "stdout",
     "output_type": "stream",
     "text": [
      "+---------+----------+--------+-----+------+------+\n",
      "|firstname|middlename|lastname|   id|gender|salary|\n",
      "+---------+----------+--------+-----+------+------+\n",
      "|    James|          |   Smith|36636|     M|  3000|\n",
      "|  Michael|      Rose|        |40288|     M|  4000|\n",
      "|   Robert|          |Williams|42114|     M|  4000|\n",
      "|    Maria|      Anne|   Jones|39192|     F|  4000|\n",
      "|      Jen|      Mary|   Brown|     |     F|    -1|\n",
      "+---------+----------+--------+-----+------+------+\n",
      "\n"
     ]
    },
    {
     "name": "stderr",
     "output_type": "stream",
     "text": [
      "25/06/02 01:04:18 ERROR TaskSchedulerImpl: Lost executor 1 on 172.18.0.6: worker lost: Not receiving heartbeat for 60 seconds\n",
      "25/06/02 01:04:18 ERROR TaskSchedulerImpl: Lost executor 0 on 172.18.0.5: worker lost: Not receiving heartbeat for 60 seconds\n"
     ]
    }
   ],
   "source": [
    "df_teste = spark.read.parquet('s3a://land/data.parquet')\n",
    "\n",
    "df_teste.show()"
   ]
  },
  {
   "cell_type": "code",
   "execution_count": null,
   "id": "8915e750-ab74-41e7-90c0-9fe48ded58a3",
   "metadata": {},
   "outputs": [],
   "source": []
  }
 ],
 "metadata": {
  "kernelspec": {
   "display_name": "Python 3 (ipykernel)",
   "language": "python",
   "name": "python3"
  },
  "language_info": {
   "codemirror_mode": {
    "name": "ipython",
    "version": 3
   },
   "file_extension": ".py",
   "mimetype": "text/x-python",
   "name": "python",
   "nbconvert_exporter": "python",
   "pygments_lexer": "ipython3",
   "version": "3.12.10"
  }
 },
 "nbformat": 4,
 "nbformat_minor": 5
}
